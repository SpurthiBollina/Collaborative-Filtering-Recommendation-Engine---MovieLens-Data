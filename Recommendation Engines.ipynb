{
 "cells": [
  {
   "cell_type": "markdown",
   "metadata": {},
   "source": [
    "## Recommendation Engines (Memory Based and Content Based Collaborating)"
   ]
  },
  {
   "cell_type": "markdown",
   "metadata": {},
   "source": [
    "#### Importing Users, Ratings and Items(movies) data"
   ]
  },
  {
   "cell_type": "code",
   "execution_count": 2,
   "metadata": {},
   "outputs": [],
   "source": [
    "import pandas as pd\n",
    "import numpy as np\n",
    "#from surprise import Dataset, evaluate\n",
    "\n"
   ]
  },
  {
   "cell_type": "code",
   "execution_count": 3,
   "metadata": {
    "collapsed": true
   },
   "outputs": [],
   "source": [
    "# Pipe separated files without headers, headers in readme file\n",
    "\n",
    "#Reading users file:\n",
    "u_cols = ['user_id', 'age', 'sex', 'occupation', 'zip_code']\n",
    "users = pd.read_csv('ml-100k/u.user', sep='|', names=u_cols,\n",
    " encoding='latin-1')\n",
    "\n",
    "#Reading ratings file:\n",
    "r_cols = ['user_id', 'movie_id', 'rating', 'unix_timestamp']\n",
    "ratings = pd.read_csv('ml-100k/u.data', sep='\\t', names=r_cols,\n",
    " encoding='latin-1')\n",
    "\n",
    "#Reading items file:\n",
    "i_cols = ['movie id', 'movie title' ,'release date','video release date', 'IMDb URL', 'unknown', 'Action', 'Adventure',\n",
    " 'Animation', 'Children\\'s', 'Comedy', 'Crime', 'Documentary', 'Drama', 'Fantasy',\n",
    " 'Film-Noir', 'Horror', 'Musical', 'Mystery', 'Romance', 'Sci-Fi', 'Thriller', 'War', 'Western']\n",
    "items = pd.read_csv('ml-100k/u.item', sep='|', names=i_cols,\n",
    " encoding='latin-1')"
   ]
  },
  {
   "cell_type": "code",
   "execution_count": 4,
   "metadata": {},
   "outputs": [
    {
     "name": "stdout",
     "output_type": "stream",
     "text": [
      "(943, 5)\n"
     ]
    },
    {
     "data": {
      "text/html": [
       "<div>\n",
       "<style>\n",
       "    .dataframe thead tr:only-child th {\n",
       "        text-align: right;\n",
       "    }\n",
       "\n",
       "    .dataframe thead th {\n",
       "        text-align: left;\n",
       "    }\n",
       "\n",
       "    .dataframe tbody tr th {\n",
       "        vertical-align: top;\n",
       "    }\n",
       "</style>\n",
       "<table border=\"1\" class=\"dataframe\">\n",
       "  <thead>\n",
       "    <tr style=\"text-align: right;\">\n",
       "      <th></th>\n",
       "      <th>user_id</th>\n",
       "      <th>movie_id</th>\n",
       "      <th>rating</th>\n",
       "      <th>unix_timestamp</th>\n",
       "    </tr>\n",
       "  </thead>\n",
       "  <tbody>\n",
       "    <tr>\n",
       "      <th>0</th>\n",
       "      <td>196</td>\n",
       "      <td>242</td>\n",
       "      <td>3</td>\n",
       "      <td>881250949</td>\n",
       "    </tr>\n",
       "    <tr>\n",
       "      <th>1</th>\n",
       "      <td>186</td>\n",
       "      <td>302</td>\n",
       "      <td>3</td>\n",
       "      <td>891717742</td>\n",
       "    </tr>\n",
       "    <tr>\n",
       "      <th>2</th>\n",
       "      <td>22</td>\n",
       "      <td>377</td>\n",
       "      <td>1</td>\n",
       "      <td>878887116</td>\n",
       "    </tr>\n",
       "    <tr>\n",
       "      <th>3</th>\n",
       "      <td>244</td>\n",
       "      <td>51</td>\n",
       "      <td>2</td>\n",
       "      <td>880606923</td>\n",
       "    </tr>\n",
       "    <tr>\n",
       "      <th>4</th>\n",
       "      <td>166</td>\n",
       "      <td>346</td>\n",
       "      <td>1</td>\n",
       "      <td>886397596</td>\n",
       "    </tr>\n",
       "  </tbody>\n",
       "</table>\n",
       "</div>"
      ],
      "text/plain": [
       "   user_id  movie_id  rating  unix_timestamp\n",
       "0      196       242       3       881250949\n",
       "1      186       302       3       891717742\n",
       "2       22       377       1       878887116\n",
       "3      244        51       2       880606923\n",
       "4      166       346       1       886397596"
      ]
     },
     "execution_count": 4,
     "metadata": {},
     "output_type": "execute_result"
    }
   ],
   "source": [
    "print(users.shape)\n",
    "ratings.head()\n",
    "#users['user_id'].nunique()"
   ]
  },
  {
   "cell_type": "code",
   "execution_count": 5,
   "metadata": {},
   "outputs": [
    {
     "name": "stdout",
     "output_type": "stream",
     "text": [
      "(100000, 4)\n",
      "Number of users = 943, Number of movies = 1682\n"
     ]
    }
   ],
   "source": [
    "print(ratings.shape)\n",
    "n_users = ratings[\"user_id\"].nunique() \n",
    "n_items = ratings.movie_id.unique().shape[0]\n",
    "print('Number of users = ' + str(n_users) + ', Number of movies = ' + str(n_items))"
   ]
  },
  {
   "cell_type": "code",
   "execution_count": 9,
   "metadata": {},
   "outputs": [
    {
     "data": {
      "text/plain": [
       "(25000, 4)"
      ]
     },
     "execution_count": 9,
     "metadata": {},
     "output_type": "execute_result"
    }
   ],
   "source": [
    "from sklearn import cross_validation as cv\n",
    "train_data, test_data = cv.train_test_split(ratings, test_size = 0.25)\n",
    "train_data.shape\n",
    "test_data.shape"
   ]
  },
  {
   "cell_type": "markdown",
   "metadata": {},
   "source": [
    "# Memory Based Collaborative Filtering"
   ]
  },
  {
   "cell_type": "markdown",
   "metadata": {},
   "source": [
    "### User - Item Matrix"
   ]
  },
  {
   "cell_type": "code",
   "execution_count": 20,
   "metadata": {},
   "outputs": [
    {
     "data": {
      "text/plain": [
       "(943, 1682)"
      ]
     },
     "execution_count": 20,
     "metadata": {},
     "output_type": "execute_result"
    }
   ],
   "source": [
    "# On training data\n",
    "train_data_matrix = np.zeros((n_users, n_items))\n",
    "for line in train_data.itertuples():\n",
    "    train_data_matrix[line[1]-1, line[2]-1] = line[3]\n",
    "    \n",
    "# On test data\n",
    "test_data_matrix = np.zeros((n_users, n_items))\n",
    "for line in test_data.itertuples():\n",
    "    test_data_matrix[line[1]-1, line[2]-1] = line[3]\n",
    "\n",
    "test_data_matrix.shape"
   ]
  },
  {
   "cell_type": "markdown",
   "metadata": {},
   "source": [
    "### Similarity Matrix"
   ]
  },
  {
   "cell_type": "code",
   "execution_count": 43,
   "metadata": {},
   "outputs": [
    {
     "data": {
      "text/plain": [
       "((943, 943), array([[ 0.        ,  0.7066502 ,  0.74796731, ...,  1.        ,\n",
       "          0.94603457,  0.94603457],\n",
       "        [ 0.7066502 ,  0.        ,  0.75997785, ...,  1.        ,\n",
       "          0.91161165,  0.91161165],\n",
       "        [ 0.74796731,  0.75997785,  0.        , ...,  1.        ,\n",
       "          1.        ,  1.        ],\n",
       "        ..., \n",
       "        [ 1.        ,  1.        ,  1.        , ...,  0.        ,\n",
       "          1.        ,  1.        ],\n",
       "        [ 0.94603457,  0.91161165,  1.        , ...,  1.        ,\n",
       "          0.        ,  1.        ],\n",
       "        [ 0.94603457,  0.91161165,  1.        , ...,  1.        ,\n",
       "          1.        ,  0.        ]]))"
      ]
     },
     "execution_count": 43,
     "metadata": {},
     "output_type": "execute_result"
    }
   ],
   "source": [
    "#The similarity values between items in Item-Item Collaborative Filtering are measured by \n",
    "    #observing all the users who have rated both items.\n",
    "#For User-Item Collaborative Filtering the similarity values between users are measured by \n",
    "    #observing all the items that are rated by both users.\n",
    "\n",
    "from sklearn.metrics.pairwise import pairwise_distances\n",
    "user_similarity = pairwise_distances(train_data_matrix, metric = 'cosine')\n",
    "item_similarity = pairwise_distances(train_data_matrix.T, metric = 'cosine' )\n",
    "user_similarity.shape,item_similarity"
   ]
  },
  {
   "cell_type": "code",
   "execution_count": 39,
   "metadata": {},
   "outputs": [],
   "source": [
    "def predict(data_set, similarity, type ):\n",
    "    if type == 'user':\n",
    "        mean_user_rating = data_set.mean(axis = 1)\n",
    "        ratings_diff = (data_set - mean_user_rating[:,np.newaxis])\n",
    "        pred = mean_user_rating[:, np.newaxis] + similarity.dot(ratings_diff) / np.array([np.abs(similarity).sum(axis=1)]).T\n",
    "    elif type == 'item':\n",
    "        pred = data_set.dot(similarity)/np.array([np.abs(similarity).sum(axis = 1)])\n",
    "    return pred\n",
    "\n"
   ]
  },
  {
   "cell_type": "markdown",
   "metadata": {},
   "source": [
    "### Predictions"
   ]
  },
  {
   "cell_type": "code",
   "execution_count": 42,
   "metadata": {},
   "outputs": [
    {
     "data": {
      "text/plain": [
       "array([[ 0.3781726 ,  0.39392969,  0.4089755 , ...,  0.46124592,\n",
       "         0.45154028,  0.44758764],\n",
       "       [ 0.08783472,  0.1023545 ,  0.09777779, ...,  0.10245516,\n",
       "         0.10378713,  0.10421821],\n",
       "       [ 0.06094242,  0.06497983,  0.0622878 , ...,  0.05996565,\n",
       "         0.06315453,  0.06416884],\n",
       "       ..., \n",
       "       [ 0.03184742,  0.04138803,  0.03992477, ...,  0.04706634,\n",
       "         0.04597135,  0.04669642],\n",
       "       [ 0.12351107,  0.1302579 ,  0.13831144, ...,  0.14620302,\n",
       "         0.14525661,  0.14628238],\n",
       "       [ 0.21146278,  0.20873026,  0.22595254, ...,  0.26277553,\n",
       "         0.25308964,  0.25461364]])"
      ]
     },
     "execution_count": 42,
     "metadata": {},
     "output_type": "execute_result"
    }
   ],
   "source": [
    "user_pred = predict(train_data_matrix, user_similarity, type = 'user')\n",
    "item_pred = predict(train_data_matrix, item_similarity, type = 'item')\n",
    "\n",
    "item_pred"
   ]
  },
  {
   "cell_type": "markdown",
   "metadata": {},
   "source": [
    "### Evaluations - RMSE"
   ]
  },
  {
   "cell_type": "code",
   "execution_count": 34,
   "metadata": {
    "collapsed": true
   },
   "outputs": [],
   "source": [
    "# Filtering all other elements in the prediction matrix with prediction[ground_truth.nonzero()], to consider only predicted ratings that are in test dataset alone\n",
    "from sklearn.metrics import mean_squared_error \n",
    "from math import sqrt\n",
    "def rmse(prediction, ground_truth):\n",
    "    prediction = prediction[ground_truth.nonzero()].flatten()\n",
    "    ground_truth = ground_truth[ground_truth.nonzero()].flatten()\n",
    "    return sqrt(mean_squared_error(prediction, ground_truth))"
   ]
  },
  {
   "cell_type": "code",
   "execution_count": 50,
   "metadata": {},
   "outputs": [
    {
     "name": "stdout",
     "output_type": "stream",
     "text": [
      "User-based CF RMSE: 3.109797426127411\n",
      "Item-based CF RMSE: 3.434313183304934\n"
     ]
    },
    {
     "data": {
      "text/plain": [
       "(array([[ 1.62312468,  0.60043021,  0.51806797, ...,  0.30973912,\n",
       "          0.30965671,  0.30950072],\n",
       "        [ 1.34760164,  0.30591746,  0.17625981, ..., -0.06408924,\n",
       "         -0.06277564, -0.06262515],\n",
       "        [ 1.34846586,  0.25698775,  0.14064516, ..., -0.10458397,\n",
       "         -0.10287704, -0.10268272],\n",
       "        ..., \n",
       "        [ 1.22062805,  0.23285858,  0.11118711, ..., -0.11819223,\n",
       "         -0.11742158, -0.11719318],\n",
       "        [ 1.38268065,  0.31777384,  0.22353008, ..., -0.01272153,\n",
       "         -0.011932  , -0.01168851],\n",
       "        [ 1.44555524,  0.40023948,  0.32053333, ...,  0.10972483,\n",
       "          0.10963908,  0.10982778]]),\n",
       " array([[ 0.,  3.,  0., ...,  0.,  0.,  0.],\n",
       "        [ 0.,  0.,  0., ...,  0.,  0.,  0.],\n",
       "        [ 0.,  0.,  0., ...,  0.,  0.,  0.],\n",
       "        ..., \n",
       "        [ 0.,  0.,  0., ...,  0.,  0.,  0.],\n",
       "        [ 0.,  0.,  0., ...,  0.,  0.,  0.],\n",
       "        [ 0.,  5.,  0., ...,  0.,  0.,  0.]]))"
      ]
     },
     "execution_count": 50,
     "metadata": {},
     "output_type": "execute_result"
    }
   ],
   "source": [
    "print('User-based CF RMSE: ' + str(rmse(user_pred, test_data_matrix)))\n",
    "print('Item-based CF RMSE: ' + str(rmse(item_pred, test_data_matrix)))\n",
    "user_pred, test_data_matrix\n"
   ]
  },
  {
   "cell_type": "markdown",
   "metadata": {},
   "source": [
    "## Model Based Collaborative Filtering - Matrix Factorization"
   ]
  },
  {
   "cell_type": "code",
   "execution_count": 74,
   "metadata": {},
   "outputs": [
    {
     "name": "stdout",
     "output_type": "stream",
     "text": [
      "sparsity of MovieLens data is 93.7%\n"
     ]
    }
   ],
   "source": [
    "# calculating sparsity level on movieLens data\n",
    "\n",
    "sparsity = round(1- len(ratings)/(float(n_users*n_items)), 3)\n",
    "print ('sparsity of MovieLens data is ' + str(sparsity*100) + \"%\")"
   ]
  },
  {
   "cell_type": "code",
   "execution_count": 88,
   "metadata": {},
   "outputs": [
    {
     "name": "stdout",
     "output_type": "stream",
     "text": [
      "User based CF RMSE: 2.7137187913810057\n"
     ]
    }
   ],
   "source": [
    "import scipy.sparse as sp\n",
    "from scipy.sparse.linalg import svds\n",
    "\n",
    "#get SVD components from train matrix, choose k\n",
    "\n",
    "u, s, vt = svds(train_data_matrix, k = 20)\n",
    "s_diag_matrix = np.diag(s)\n",
    "x_pred = np.dot(np.dot(u, s_diag_matrix), vt)\n",
    "x_pred.shape\n",
    "\n",
    "print('User based CF RMSE: ' + str(rmse(x_pred, test_data_matrix)))"
   ]
  },
  {
   "cell_type": "code",
   "execution_count": 93,
   "metadata": {},
   "outputs": [
    {
     "data": {
      "text/plain": [
       "array([[  3.42880104e+00,   1.80118337e+00,   1.01827999e+00, ...,\n",
       "         -6.47669137e-03,   2.22787709e-02,   7.74222629e-02],\n",
       "       [  1.47574537e+00,  -2.37259905e-01,   1.18014061e-01, ...,\n",
       "          1.34555966e-02,  -2.71754892e-03,  -1.45638592e-02],\n",
       "       [  2.77339709e-01,  -6.51713826e-02,   1.14309958e-01, ...,\n",
       "          1.74621150e-02,   7.40767355e-03,  -3.88694240e-03],\n",
       "       ..., \n",
       "       [  2.10338322e+00,   9.72620199e-02,   3.58678032e-01, ...,\n",
       "         -2.16838011e-03,   6.58243393e-03,   3.07306869e-03],\n",
       "       [  8.82233021e-01,   2.07283952e-01,  -2.77358881e-01, ...,\n",
       "          9.00223341e-03,   4.07239495e-03,  -4.19411370e-02],\n",
       "       [  1.50992730e+00,   1.57594725e+00,   1.02041739e+00, ...,\n",
       "         -7.36682314e-03,   2.23404788e-02,   3.09707645e-02]])"
      ]
     },
     "execution_count": 93,
     "metadata": {},
     "output_type": "execute_result"
    }
   ],
   "source": [
    "x_pred"
   ]
  },
  {
   "cell_type": "markdown",
   "metadata": {},
   "source": [
    "#### References\n",
    "\n",
    "https://cambridgespark.com/content/tutorials/implementing-your-own-recommender-systems-in-Python/index.html\n",
    "\n",
    "https://github.com/ogerhsou/Youtube-Recommendation-Tensorflow/blob/master/youtube_recommendation.py\n",
    "\n",
    "https://github.com/robi56/Deep-Learning-for-Recommendation-Systems"
   ]
  }
 ],
 "metadata": {
  "kernelspec": {
   "display_name": "Python 3",
   "language": "python",
   "name": "python3"
  }
 },
 "nbformat": 4,
 "nbformat_minor": 2
}
